{
  "nbformat": 4,
  "nbformat_minor": 0,
  "metadata": {
    "colab": {
      "provenance": [],
      "gpuType": "T4"
    },
    "kernelspec": {
      "name": "python3",
      "display_name": "Python 3"
    },
    "language_info": {
      "name": "python"
    },
    "accelerator": "GPU"
  },
  "cells": [
    {
      "cell_type": "code",
      "source": [
        "text = \"\"\"\n",
        "In 1982, Trump made the initial Forbes list of wealthy people for holding a share of his family's estimated $200 million net worth (equivalent to $631 million in 2023).[32] His losses in the 1980s dropped him from the list between 1990 and 1995.[33] After filing the mandatory financial disclosure report with the FEC in July 2015, he announced a net worth of about $10 billion. Records released by the FEC showed at least $1.4 billion in assets and $265 million in liabilities.[34] Forbes estimated his net worth dropped by $1.4 billion between 2015 and 2018.[35] In their 2024 billionaires ranking, Trump's net worth was estimated to be $2.3 billion (1,438th in the world).[36]\n",
        "\n",
        "Journalist Jonathan Greenberg reported that Trump called him in 1984, pretending to be a fictional Trump Organization official named \"John Barron\". Greenberg said that Trump, just to get a higher ranking on the Forbes 400 list of wealthy Americans, identified himself as \"Barron\", and then falsely asserted that Donald Trump owned more than 90 percent of his father's business. Greenberg also wrote that Forbes had vastly overestimated Trump's wealth and wrongly included him on the 1982, 1983, and 1984 rankings.[37]\n",
        "\n",
        "Trump has often said he began his career with \"a small loan of a million dollars\" from his father and that he had to pay it back with interest.[38] He was a millionaire by age eight, borrowed at least $60 million from his father, largely failed to repay those loans, and received another $413 million (2018 dollars adjusted for inflation) from his father's company.[39][40] In 2018, he and his family were reported to have committed tax fraud, and the New York State Department of Taxation and Finance started an investigation.[40] His investments underperformed the stock and New York property markets.[41][42] Forbes estimated in October 2018 that his net worth declined from $4.5 billion in 2015 to $3.1 billion in 2017 and his product-licensing income from $23 million to $3 million.[43]\n",
        "\n",
        "Contrary to his claims of financial health and business acumen, Trump's tax returns from 1985 to 1994 show net losses totaling $1.17 billion. The losses were higher than those of almost every other American taxpayer. The losses in 1990 and 1991, more than $250 million each year, were more than double those of the nearest taxpayers. In 1995, his reported losses were $915.7 million (equivalent to $1.83 billion in 2023).[44][45][32]\n",
        "\n",
        "In 2020, The New York Times obtained Trump's tax information extending over two decades. Its reporters found that Trump reported losses of hundreds of millions of dollars and had, since 2010, deferred declaring $287 million in forgiven debt as taxable income. His income mainly came from his share in The Apprentice and businesses in which he was a minority partner, and his losses mainly from majority-owned businesses. Much income was in tax credits for his losses, which let him avoid annual income tax payments or lower them to $750. During the 2010s, Trump balanced his businesses' losses by selling and borrowing against assets, including a $100 million mortgage on Trump Tower (due in 2022) and the liquidation of over $200 million in stocks and bonds. He personally guaranteed $421 million in debt, most of which is due by 2024.[46]\n",
        "\n",
        "As of October 2021, Trump had over $1.3 billion in debts, much of which is secured by his assets.[47] In 2020, he owed $640 million to banks and trust organizations, including Bank of China, Deutsche Bank, and UBS, and approximately $450 million to unknown creditors. The value of his assets exceeds his debt.[48]\n",
        "\"\"\""
      ],
      "metadata": {
        "id": "Z1FG33VLgeVR"
      },
      "execution_count": null,
      "outputs": []
    },
    {
      "cell_type": "code",
      "source": [
        "!pip install -U spacy\n",
        "!python -m spacy download en_core_web_sm"
      ],
      "metadata": {
        "colab": {
          "base_uri": "https://localhost:8080/"
        },
        "id": "R9MNi7tNgjoG",
        "outputId": "cdaff470-9fb1-4813-cc59-902364749be3"
      },
      "execution_count": null,
      "outputs": [
        {
          "output_type": "stream",
          "name": "stdout",
          "text": [
            "Requirement already satisfied: spacy in /usr/local/lib/python3.10/dist-packages (3.7.5)\n",
            "Requirement already satisfied: spacy-legacy<3.1.0,>=3.0.11 in /usr/local/lib/python3.10/dist-packages (from spacy) (3.0.12)\n",
            "Requirement already satisfied: spacy-loggers<2.0.0,>=1.0.0 in /usr/local/lib/python3.10/dist-packages (from spacy) (1.0.5)\n",
            "Requirement already satisfied: murmurhash<1.1.0,>=0.28.0 in /usr/local/lib/python3.10/dist-packages (from spacy) (1.0.10)\n",
            "Requirement already satisfied: cymem<2.1.0,>=2.0.2 in /usr/local/lib/python3.10/dist-packages (from spacy) (2.0.8)\n",
            "Requirement already satisfied: preshed<3.1.0,>=3.0.2 in /usr/local/lib/python3.10/dist-packages (from spacy) (3.0.9)\n",
            "Requirement already satisfied: thinc<8.3.0,>=8.2.2 in /usr/local/lib/python3.10/dist-packages (from spacy) (8.2.5)\n",
            "Requirement already satisfied: wasabi<1.2.0,>=0.9.1 in /usr/local/lib/python3.10/dist-packages (from spacy) (1.1.3)\n",
            "Requirement already satisfied: srsly<3.0.0,>=2.4.3 in /usr/local/lib/python3.10/dist-packages (from spacy) (2.4.8)\n",
            "Requirement already satisfied: catalogue<2.1.0,>=2.0.6 in /usr/local/lib/python3.10/dist-packages (from spacy) (2.0.10)\n",
            "Requirement already satisfied: weasel<0.5.0,>=0.1.0 in /usr/local/lib/python3.10/dist-packages (from spacy) (0.4.1)\n",
            "Requirement already satisfied: typer<1.0.0,>=0.3.0 in /usr/local/lib/python3.10/dist-packages (from spacy) (0.12.3)\n",
            "Requirement already satisfied: tqdm<5.0.0,>=4.38.0 in /usr/local/lib/python3.10/dist-packages (from spacy) (4.66.4)\n",
            "Requirement already satisfied: requests<3.0.0,>=2.13.0 in /usr/local/lib/python3.10/dist-packages (from spacy) (2.31.0)\n",
            "Requirement already satisfied: pydantic!=1.8,!=1.8.1,<3.0.0,>=1.7.4 in /usr/local/lib/python3.10/dist-packages (from spacy) (2.8.2)\n",
            "Requirement already satisfied: jinja2 in /usr/local/lib/python3.10/dist-packages (from spacy) (3.1.4)\n",
            "Requirement already satisfied: setuptools in /usr/local/lib/python3.10/dist-packages (from spacy) (67.7.2)\n",
            "Requirement already satisfied: packaging>=20.0 in /usr/local/lib/python3.10/dist-packages (from spacy) (24.1)\n",
            "Requirement already satisfied: langcodes<4.0.0,>=3.2.0 in /usr/local/lib/python3.10/dist-packages (from spacy) (3.4.0)\n",
            "Requirement already satisfied: numpy>=1.19.0 in /usr/local/lib/python3.10/dist-packages (from spacy) (1.25.2)\n",
            "Requirement already satisfied: language-data>=1.2 in /usr/local/lib/python3.10/dist-packages (from langcodes<4.0.0,>=3.2.0->spacy) (1.2.0)\n",
            "Requirement already satisfied: annotated-types>=0.4.0 in /usr/local/lib/python3.10/dist-packages (from pydantic!=1.8,!=1.8.1,<3.0.0,>=1.7.4->spacy) (0.7.0)\n",
            "Requirement already satisfied: pydantic-core==2.20.1 in /usr/local/lib/python3.10/dist-packages (from pydantic!=1.8,!=1.8.1,<3.0.0,>=1.7.4->spacy) (2.20.1)\n",
            "Requirement already satisfied: typing-extensions>=4.6.1 in /usr/local/lib/python3.10/dist-packages (from pydantic!=1.8,!=1.8.1,<3.0.0,>=1.7.4->spacy) (4.12.2)\n",
            "Requirement already satisfied: charset-normalizer<4,>=2 in /usr/local/lib/python3.10/dist-packages (from requests<3.0.0,>=2.13.0->spacy) (3.3.2)\n",
            "Requirement already satisfied: idna<4,>=2.5 in /usr/local/lib/python3.10/dist-packages (from requests<3.0.0,>=2.13.0->spacy) (3.7)\n",
            "Requirement already satisfied: urllib3<3,>=1.21.1 in /usr/local/lib/python3.10/dist-packages (from requests<3.0.0,>=2.13.0->spacy) (2.0.7)\n",
            "Requirement already satisfied: certifi>=2017.4.17 in /usr/local/lib/python3.10/dist-packages (from requests<3.0.0,>=2.13.0->spacy) (2024.7.4)\n",
            "Requirement already satisfied: blis<0.8.0,>=0.7.8 in /usr/local/lib/python3.10/dist-packages (from thinc<8.3.0,>=8.2.2->spacy) (0.7.11)\n",
            "Requirement already satisfied: confection<1.0.0,>=0.0.1 in /usr/local/lib/python3.10/dist-packages (from thinc<8.3.0,>=8.2.2->spacy) (0.1.5)\n",
            "Requirement already satisfied: click>=8.0.0 in /usr/local/lib/python3.10/dist-packages (from typer<1.0.0,>=0.3.0->spacy) (8.1.7)\n",
            "Requirement already satisfied: shellingham>=1.3.0 in /usr/local/lib/python3.10/dist-packages (from typer<1.0.0,>=0.3.0->spacy) (1.5.4)\n",
            "Requirement already satisfied: rich>=10.11.0 in /usr/local/lib/python3.10/dist-packages (from typer<1.0.0,>=0.3.0->spacy) (13.7.1)\n",
            "Requirement already satisfied: cloudpathlib<1.0.0,>=0.7.0 in /usr/local/lib/python3.10/dist-packages (from weasel<0.5.0,>=0.1.0->spacy) (0.18.1)\n",
            "Requirement already satisfied: smart-open<8.0.0,>=5.2.1 in /usr/local/lib/python3.10/dist-packages (from weasel<0.5.0,>=0.1.0->spacy) (7.0.4)\n",
            "Requirement already satisfied: MarkupSafe>=2.0 in /usr/local/lib/python3.10/dist-packages (from jinja2->spacy) (2.1.5)\n",
            "Requirement already satisfied: marisa-trie>=0.7.7 in /usr/local/lib/python3.10/dist-packages (from language-data>=1.2->langcodes<4.0.0,>=3.2.0->spacy) (1.2.0)\n",
            "Requirement already satisfied: markdown-it-py>=2.2.0 in /usr/local/lib/python3.10/dist-packages (from rich>=10.11.0->typer<1.0.0,>=0.3.0->spacy) (3.0.0)\n",
            "Requirement already satisfied: pygments<3.0.0,>=2.13.0 in /usr/local/lib/python3.10/dist-packages (from rich>=10.11.0->typer<1.0.0,>=0.3.0->spacy) (2.16.1)\n",
            "Requirement already satisfied: wrapt in /usr/local/lib/python3.10/dist-packages (from smart-open<8.0.0,>=5.2.1->weasel<0.5.0,>=0.1.0->spacy) (1.14.1)\n",
            "Requirement already satisfied: mdurl~=0.1 in /usr/local/lib/python3.10/dist-packages (from markdown-it-py>=2.2.0->rich>=10.11.0->typer<1.0.0,>=0.3.0->spacy) (0.1.2)\n",
            "Collecting en-core-web-sm==3.7.1\n",
            "  Downloading https://github.com/explosion/spacy-models/releases/download/en_core_web_sm-3.7.1/en_core_web_sm-3.7.1-py3-none-any.whl (12.8 MB)\n",
            "\u001b[2K     \u001b[90m━━━━━━━━━━━━━━━━━━━━━━━━━━━━━━━━━━━━━━━━\u001b[0m \u001b[32m12.8/12.8 MB\u001b[0m \u001b[31m35.5 MB/s\u001b[0m eta \u001b[36m0:00:00\u001b[0m\n",
            "\u001b[?25hRequirement already satisfied: spacy<3.8.0,>=3.7.2 in /usr/local/lib/python3.10/dist-packages (from en-core-web-sm==3.7.1) (3.7.5)\n",
            "Requirement already satisfied: spacy-legacy<3.1.0,>=3.0.11 in /usr/local/lib/python3.10/dist-packages (from spacy<3.8.0,>=3.7.2->en-core-web-sm==3.7.1) (3.0.12)\n",
            "Requirement already satisfied: spacy-loggers<2.0.0,>=1.0.0 in /usr/local/lib/python3.10/dist-packages (from spacy<3.8.0,>=3.7.2->en-core-web-sm==3.7.1) (1.0.5)\n",
            "Requirement already satisfied: murmurhash<1.1.0,>=0.28.0 in /usr/local/lib/python3.10/dist-packages (from spacy<3.8.0,>=3.7.2->en-core-web-sm==3.7.1) (1.0.10)\n",
            "Requirement already satisfied: cymem<2.1.0,>=2.0.2 in /usr/local/lib/python3.10/dist-packages (from spacy<3.8.0,>=3.7.2->en-core-web-sm==3.7.1) (2.0.8)\n",
            "Requirement already satisfied: preshed<3.1.0,>=3.0.2 in /usr/local/lib/python3.10/dist-packages (from spacy<3.8.0,>=3.7.2->en-core-web-sm==3.7.1) (3.0.9)\n",
            "Requirement already satisfied: thinc<8.3.0,>=8.2.2 in /usr/local/lib/python3.10/dist-packages (from spacy<3.8.0,>=3.7.2->en-core-web-sm==3.7.1) (8.2.5)\n",
            "Requirement already satisfied: wasabi<1.2.0,>=0.9.1 in /usr/local/lib/python3.10/dist-packages (from spacy<3.8.0,>=3.7.2->en-core-web-sm==3.7.1) (1.1.3)\n",
            "Requirement already satisfied: srsly<3.0.0,>=2.4.3 in /usr/local/lib/python3.10/dist-packages (from spacy<3.8.0,>=3.7.2->en-core-web-sm==3.7.1) (2.4.8)\n",
            "Requirement already satisfied: catalogue<2.1.0,>=2.0.6 in /usr/local/lib/python3.10/dist-packages (from spacy<3.8.0,>=3.7.2->en-core-web-sm==3.7.1) (2.0.10)\n",
            "Requirement already satisfied: weasel<0.5.0,>=0.1.0 in /usr/local/lib/python3.10/dist-packages (from spacy<3.8.0,>=3.7.2->en-core-web-sm==3.7.1) (0.4.1)\n",
            "Requirement already satisfied: typer<1.0.0,>=0.3.0 in /usr/local/lib/python3.10/dist-packages (from spacy<3.8.0,>=3.7.2->en-core-web-sm==3.7.1) (0.12.3)\n",
            "Requirement already satisfied: tqdm<5.0.0,>=4.38.0 in /usr/local/lib/python3.10/dist-packages (from spacy<3.8.0,>=3.7.2->en-core-web-sm==3.7.1) (4.66.4)\n",
            "Requirement already satisfied: requests<3.0.0,>=2.13.0 in /usr/local/lib/python3.10/dist-packages (from spacy<3.8.0,>=3.7.2->en-core-web-sm==3.7.1) (2.31.0)\n",
            "Requirement already satisfied: pydantic!=1.8,!=1.8.1,<3.0.0,>=1.7.4 in /usr/local/lib/python3.10/dist-packages (from spacy<3.8.0,>=3.7.2->en-core-web-sm==3.7.1) (2.8.2)\n",
            "Requirement already satisfied: jinja2 in /usr/local/lib/python3.10/dist-packages (from spacy<3.8.0,>=3.7.2->en-core-web-sm==3.7.1) (3.1.4)\n",
            "Requirement already satisfied: setuptools in /usr/local/lib/python3.10/dist-packages (from spacy<3.8.0,>=3.7.2->en-core-web-sm==3.7.1) (67.7.2)\n",
            "Requirement already satisfied: packaging>=20.0 in /usr/local/lib/python3.10/dist-packages (from spacy<3.8.0,>=3.7.2->en-core-web-sm==3.7.1) (24.1)\n",
            "Requirement already satisfied: langcodes<4.0.0,>=3.2.0 in /usr/local/lib/python3.10/dist-packages (from spacy<3.8.0,>=3.7.2->en-core-web-sm==3.7.1) (3.4.0)\n",
            "Requirement already satisfied: numpy>=1.19.0 in /usr/local/lib/python3.10/dist-packages (from spacy<3.8.0,>=3.7.2->en-core-web-sm==3.7.1) (1.25.2)\n",
            "Requirement already satisfied: language-data>=1.2 in /usr/local/lib/python3.10/dist-packages (from langcodes<4.0.0,>=3.2.0->spacy<3.8.0,>=3.7.2->en-core-web-sm==3.7.1) (1.2.0)\n",
            "Requirement already satisfied: annotated-types>=0.4.0 in /usr/local/lib/python3.10/dist-packages (from pydantic!=1.8,!=1.8.1,<3.0.0,>=1.7.4->spacy<3.8.0,>=3.7.2->en-core-web-sm==3.7.1) (0.7.0)\n",
            "Requirement already satisfied: pydantic-core==2.20.1 in /usr/local/lib/python3.10/dist-packages (from pydantic!=1.8,!=1.8.1,<3.0.0,>=1.7.4->spacy<3.8.0,>=3.7.2->en-core-web-sm==3.7.1) (2.20.1)\n",
            "Requirement already satisfied: typing-extensions>=4.6.1 in /usr/local/lib/python3.10/dist-packages (from pydantic!=1.8,!=1.8.1,<3.0.0,>=1.7.4->spacy<3.8.0,>=3.7.2->en-core-web-sm==3.7.1) (4.12.2)\n",
            "Requirement already satisfied: charset-normalizer<4,>=2 in /usr/local/lib/python3.10/dist-packages (from requests<3.0.0,>=2.13.0->spacy<3.8.0,>=3.7.2->en-core-web-sm==3.7.1) (3.3.2)\n",
            "Requirement already satisfied: idna<4,>=2.5 in /usr/local/lib/python3.10/dist-packages (from requests<3.0.0,>=2.13.0->spacy<3.8.0,>=3.7.2->en-core-web-sm==3.7.1) (3.7)\n",
            "Requirement already satisfied: urllib3<3,>=1.21.1 in /usr/local/lib/python3.10/dist-packages (from requests<3.0.0,>=2.13.0->spacy<3.8.0,>=3.7.2->en-core-web-sm==3.7.1) (2.0.7)\n",
            "Requirement already satisfied: certifi>=2017.4.17 in /usr/local/lib/python3.10/dist-packages (from requests<3.0.0,>=2.13.0->spacy<3.8.0,>=3.7.2->en-core-web-sm==3.7.1) (2024.7.4)\n",
            "Requirement already satisfied: blis<0.8.0,>=0.7.8 in /usr/local/lib/python3.10/dist-packages (from thinc<8.3.0,>=8.2.2->spacy<3.8.0,>=3.7.2->en-core-web-sm==3.7.1) (0.7.11)\n",
            "Requirement already satisfied: confection<1.0.0,>=0.0.1 in /usr/local/lib/python3.10/dist-packages (from thinc<8.3.0,>=8.2.2->spacy<3.8.0,>=3.7.2->en-core-web-sm==3.7.1) (0.1.5)\n",
            "Requirement already satisfied: click>=8.0.0 in /usr/local/lib/python3.10/dist-packages (from typer<1.0.0,>=0.3.0->spacy<3.8.0,>=3.7.2->en-core-web-sm==3.7.1) (8.1.7)\n",
            "Requirement already satisfied: shellingham>=1.3.0 in /usr/local/lib/python3.10/dist-packages (from typer<1.0.0,>=0.3.0->spacy<3.8.0,>=3.7.2->en-core-web-sm==3.7.1) (1.5.4)\n",
            "Requirement already satisfied: rich>=10.11.0 in /usr/local/lib/python3.10/dist-packages (from typer<1.0.0,>=0.3.0->spacy<3.8.0,>=3.7.2->en-core-web-sm==3.7.1) (13.7.1)\n",
            "Requirement already satisfied: cloudpathlib<1.0.0,>=0.7.0 in /usr/local/lib/python3.10/dist-packages (from weasel<0.5.0,>=0.1.0->spacy<3.8.0,>=3.7.2->en-core-web-sm==3.7.1) (0.18.1)\n",
            "Requirement already satisfied: smart-open<8.0.0,>=5.2.1 in /usr/local/lib/python3.10/dist-packages (from weasel<0.5.0,>=0.1.0->spacy<3.8.0,>=3.7.2->en-core-web-sm==3.7.1) (7.0.4)\n",
            "Requirement already satisfied: MarkupSafe>=2.0 in /usr/local/lib/python3.10/dist-packages (from jinja2->spacy<3.8.0,>=3.7.2->en-core-web-sm==3.7.1) (2.1.5)\n",
            "Requirement already satisfied: marisa-trie>=0.7.7 in /usr/local/lib/python3.10/dist-packages (from language-data>=1.2->langcodes<4.0.0,>=3.2.0->spacy<3.8.0,>=3.7.2->en-core-web-sm==3.7.1) (1.2.0)\n",
            "Requirement already satisfied: markdown-it-py>=2.2.0 in /usr/local/lib/python3.10/dist-packages (from rich>=10.11.0->typer<1.0.0,>=0.3.0->spacy<3.8.0,>=3.7.2->en-core-web-sm==3.7.1) (3.0.0)\n",
            "Requirement already satisfied: pygments<3.0.0,>=2.13.0 in /usr/local/lib/python3.10/dist-packages (from rich>=10.11.0->typer<1.0.0,>=0.3.0->spacy<3.8.0,>=3.7.2->en-core-web-sm==3.7.1) (2.16.1)\n",
            "Requirement already satisfied: wrapt in /usr/local/lib/python3.10/dist-packages (from smart-open<8.0.0,>=5.2.1->weasel<0.5.0,>=0.1.0->spacy<3.8.0,>=3.7.2->en-core-web-sm==3.7.1) (1.14.1)\n",
            "Requirement already satisfied: mdurl~=0.1 in /usr/local/lib/python3.10/dist-packages (from markdown-it-py>=2.2.0->rich>=10.11.0->typer<1.0.0,>=0.3.0->spacy<3.8.0,>=3.7.2->en-core-web-sm==3.7.1) (0.1.2)\n",
            "\u001b[38;5;2m✔ Download and installation successful\u001b[0m\n",
            "You can now load the package via spacy.load('en_core_web_sm')\n",
            "\u001b[38;5;3m⚠ Restart to reload dependencies\u001b[0m\n",
            "If you are in a Jupyter or Colab notebook, you may need to restart Python in\n",
            "order to load all the package's dependencies. You can do this by selecting the\n",
            "'Restart kernel' or 'Restart runtime' option.\n"
          ]
        }
      ]
    },
    {
      "cell_type": "markdown",
      "source": [
        "import spacy\n",
        "from spacy.lang.en.stop_words import STOP_WORDS\n",
        "from string import punctuation"
      ],
      "metadata": {
        "id": "lXiAjEfBguJi"
      }
    },
    {
      "cell_type": "code",
      "source": [
        "import spacy\n",
        "from spacy.lang.en.stop_words import STOP_WORDS\n",
        "from string import punctuation"
      ],
      "metadata": {
        "id": "K2vDDj8ahJRR"
      },
      "execution_count": null,
      "outputs": []
    },
    {
      "cell_type": "code",
      "source": [
        "stopwords = list(STOP_WORDS)"
      ],
      "metadata": {
        "id": "xv9VkzQkhOMY"
      },
      "execution_count": null,
      "outputs": []
    },
    {
      "cell_type": "code",
      "source": [
        "nlp = spacy.load('en_core_web_sm')"
      ],
      "metadata": {
        "id": "ql5u6VgbhTVM"
      },
      "execution_count": null,
      "outputs": []
    },
    {
      "cell_type": "code",
      "source": [
        "doc=nlp(text)"
      ],
      "metadata": {
        "id": "7e8aOVYGhciv"
      },
      "execution_count": null,
      "outputs": []
    },
    {
      "cell_type": "code",
      "source": [
        "tokens = [token.text for token in doc]\n",
        "print(tokens)"
      ],
      "metadata": {
        "colab": {
          "base_uri": "https://localhost:8080/"
        },
        "id": "AJ_gDPUFhfPP",
        "outputId": "a3954227-6b16-40bf-81d8-9614ea3f662c"
      },
      "execution_count": null,
      "outputs": [
        {
          "output_type": "stream",
          "name": "stdout",
          "text": [
            "['\\n', 'In', '1982', ',', 'Trump', 'made', 'the', 'initial', 'Forbes', 'list', 'of', 'wealthy', 'people', 'for', 'holding', 'a', 'share', 'of', 'his', 'family', \"'s\", 'estimated', '$', '200', 'million', 'net', 'worth', '(', 'equivalent', 'to', '$', '631', 'million', 'in', '2023).[32', ']', 'His', 'losses', 'in', 'the', '1980s', 'dropped', 'him', 'from', 'the', 'list', 'between', '1990', 'and', '1995.[33', ']', 'After', 'filing', 'the', 'mandatory', 'financial', 'disclosure', 'report', 'with', 'the', 'FEC', 'in', 'July', '2015', ',', 'he', 'announced', 'a', 'net', 'worth', 'of', 'about', '$', '10', 'billion', '.', 'Records', 'released', 'by', 'the', 'FEC', 'showed', 'at', 'least', '$', '1.4', 'billion', 'in', 'assets', 'and', '$', '265', 'million', 'in', 'liabilities.[34', ']', 'Forbes', 'estimated', 'his', 'net', 'worth', 'dropped', 'by', '$', '1.4', 'billion', 'between', '2015', 'and', '2018.[35', ']', 'In', 'their', '2024', 'billionaires', 'ranking', ',', 'Trump', \"'s\", 'net', 'worth', 'was', 'estimated', 'to', 'be', '$', '2.3', 'billion', '(', '1,438th', 'in', 'the', 'world).[36', ']', '\\n\\n', 'Journalist', 'Jonathan', 'Greenberg', 'reported', 'that', 'Trump', 'called', 'him', 'in', '1984', ',', 'pretending', 'to', 'be', 'a', 'fictional', 'Trump', 'Organization', 'official', 'named', '\"', 'John', 'Barron', '\"', '.', 'Greenberg', 'said', 'that', 'Trump', ',', 'just', 'to', 'get', 'a', 'higher', 'ranking', 'on', 'the', 'Forbes', '400', 'list', 'of', 'wealthy', 'Americans', ',', 'identified', 'himself', 'as', '\"', 'Barron', '\"', ',', 'and', 'then', 'falsely', 'asserted', 'that', 'Donald', 'Trump', 'owned', 'more', 'than', '90', 'percent', 'of', 'his', 'father', \"'s\", 'business', '.', 'Greenberg', 'also', 'wrote', 'that', 'Forbes', 'had', 'vastly', 'overestimated', 'Trump', \"'s\", 'wealth', 'and', 'wrongly', 'included', 'him', 'on', 'the', '1982', ',', '1983', ',', 'and', '1984', 'rankings.[37', ']', '\\n\\n', 'Trump', 'has', 'often', 'said', 'he', 'began', 'his', 'career', 'with', '\"', 'a', 'small', 'loan', 'of', 'a', 'million', 'dollars', '\"', 'from', 'his', 'father', 'and', 'that', 'he', 'had', 'to', 'pay', 'it', 'back', 'with', 'interest.[38', ']', 'He', 'was', 'a', 'millionaire', 'by', 'age', 'eight', ',', 'borrowed', 'at', 'least', '$', '60', 'million', 'from', 'his', 'father', ',', 'largely', 'failed', 'to', 'repay', 'those', 'loans', ',', 'and', 'received', 'another', '$', '413', 'million', '(', '2018', 'dollars', 'adjusted', 'for', 'inflation', ')', 'from', 'his', 'father', \"'s\", 'company.[39][40', ']', 'In', '2018', ',', 'he', 'and', 'his', 'family', 'were', 'reported', 'to', 'have', 'committed', 'tax', 'fraud', ',', 'and', 'the', 'New', 'York', 'State', 'Department', 'of', 'Taxation', 'and', 'Finance', 'started', 'an', 'investigation.[40', ']', 'His', 'investments', 'underperformed', 'the', 'stock', 'and', 'New', 'York', 'property', 'markets.[41][42', ']', 'Forbes', 'estimated', 'in', 'October', '2018', 'that', 'his', 'net', 'worth', 'declined', 'from', '$', '4.5', 'billion', 'in', '2015', 'to', '$', '3.1', 'billion', 'in', '2017', 'and', 'his', 'product', '-', 'licensing', 'income', 'from', '$', '23', 'million', 'to', '$', '3', 'million.[43', ']', '\\n\\n', 'Contrary', 'to', 'his', 'claims', 'of', 'financial', 'health', 'and', 'business', 'acumen', ',', 'Trump', \"'s\", 'tax', 'returns', 'from', '1985', 'to', '1994', 'show', 'net', 'losses', 'totaling', '$', '1.17', 'billion', '.', 'The', 'losses', 'were', 'higher', 'than', 'those', 'of', 'almost', 'every', 'other', 'American', 'taxpayer', '.', 'The', 'losses', 'in', '1990', 'and', '1991', ',', 'more', 'than', '$', '250', 'million', 'each', 'year', ',', 'were', 'more', 'than', 'double', 'those', 'of', 'the', 'nearest', 'taxpayers', '.', 'In', '1995', ',', 'his', 'reported', 'losses', 'were', '$', '915.7', 'million', '(', 'equivalent', 'to', '$', '1.83', 'billion', 'in', '2023).[44][45][32', ']', '\\n\\n', 'In', '2020', ',', 'The', 'New', 'York', 'Times', 'obtained', 'Trump', \"'s\", 'tax', 'information', 'extending', 'over', 'two', 'decades', '.', 'Its', 'reporters', 'found', 'that', 'Trump', 'reported', 'losses', 'of', 'hundreds', 'of', 'millions', 'of', 'dollars', 'and', 'had', ',', 'since', '2010', ',', 'deferred', 'declaring', '$', '287', 'million', 'in', 'forgiven', 'debt', 'as', 'taxable', 'income', '.', 'His', 'income', 'mainly', 'came', 'from', 'his', 'share', 'in', 'The', 'Apprentice', 'and', 'businesses', 'in', 'which', 'he', 'was', 'a', 'minority', 'partner', ',', 'and', 'his', 'losses', 'mainly', 'from', 'majority', '-', 'owned', 'businesses', '.', 'Much', 'income', 'was', 'in', 'tax', 'credits', 'for', 'his', 'losses', ',', 'which', 'let', 'him', 'avoid', 'annual', 'income', 'tax', 'payments', 'or', 'lower', 'them', 'to', '$', '750', '.', 'During', 'the', '2010s', ',', 'Trump', 'balanced', 'his', 'businesses', \"'\", 'losses', 'by', 'selling', 'and', 'borrowing', 'against', 'assets', ',', 'including', 'a', '$', '100', 'million', 'mortgage', 'on', 'Trump', 'Tower', '(', 'due', 'in', '2022', ')', 'and', 'the', 'liquidation', 'of', 'over', '$', '200', 'million', 'in', 'stocks', 'and', 'bonds', '.', 'He', 'personally', 'guaranteed', '$', '421', 'million', 'in', 'debt', ',', 'most', 'of', 'which', 'is', 'due', 'by', '2024.[46', ']', '\\n\\n', 'As', 'of', 'October', '2021', ',', 'Trump', 'had', 'over', '$', '1.3', 'billion', 'in', 'debts', ',', 'much', 'of', 'which', 'is', 'secured', 'by', 'his', 'assets.[47', ']', 'In', '2020', ',', 'he', 'owed', '$', '640', 'million', 'to', 'banks', 'and', 'trust', 'organizations', ',', 'including', 'Bank', 'of', 'China', ',', 'Deutsche', 'Bank', ',', 'and', 'UBS', ',', 'and', 'approximately', '$', '450', 'million', 'to', 'unknown', 'creditors', '.', 'The', 'value', 'of', 'his', 'assets', 'exceeds', 'his', 'debt.[48', ']', '\\n']\n"
          ]
        }
      ]
    },
    {
      "cell_type": "code",
      "source": [
        "punctuation = punctuation + '\\n'\n",
        "punctuation"
      ],
      "metadata": {
        "colab": {
          "base_uri": "https://localhost:8080/",
          "height": 36
        },
        "id": "7x8FGw0bhs1h",
        "outputId": "947841d2-6688-49b6-e1af-5add4a7d067e"
      },
      "execution_count": null,
      "outputs": [
        {
          "output_type": "execute_result",
          "data": {
            "text/plain": [
              "'!\"#$%&\\'()*+,-./:;<=>?@[\\\\]^_`{|}~\\n'"
            ],
            "application/vnd.google.colaboratory.intrinsic+json": {
              "type": "string"
            }
          },
          "metadata": {},
          "execution_count": 16
        }
      ]
    },
    {
      "cell_type": "code",
      "source": [
        "word_frequencies = {}\n",
        "for word in doc:\n",
        "  if word.text.lower() not in stopwords:\n",
        "    if word.text.lower() not in punctuation:\n",
        "      if word.text not in word_frequencies.keys():\n",
        "        word_frequencies[word.text] = 1\n",
        "      else:\n",
        "        word_frequencies[word.text] += 1"
      ],
      "metadata": {
        "id": "zGuoN4Y6h275"
      },
      "execution_count": null,
      "outputs": []
    },
    {
      "cell_type": "code",
      "source": [
        "word_frequencies"
      ],
      "metadata": {
        "colab": {
          "base_uri": "https://localhost:8080/"
        },
        "id": "ZD93fxFXiEj3",
        "outputId": "3d9c0bbc-7e0a-42e3-bfbc-409773eb5eb7"
      },
      "execution_count": null,
      "outputs": [
        {
          "output_type": "execute_result",
          "data": {
            "text/plain": [
              "{'1982': 2,\n",
              " 'Trump': 14,\n",
              " 'initial': 1,\n",
              " 'Forbes': 5,\n",
              " 'list': 3,\n",
              " 'wealthy': 2,\n",
              " 'people': 1,\n",
              " 'holding': 1,\n",
              " 'share': 2,\n",
              " 'family': 2,\n",
              " 'estimated': 4,\n",
              " '200': 2,\n",
              " 'million': 15,\n",
              " 'net': 6,\n",
              " 'worth': 5,\n",
              " 'equivalent': 2,\n",
              " '631': 1,\n",
              " '2023).[32': 1,\n",
              " 'losses': 9,\n",
              " '1980s': 1,\n",
              " 'dropped': 2,\n",
              " '1990': 2,\n",
              " '1995.[33': 1,\n",
              " 'filing': 1,\n",
              " 'mandatory': 1,\n",
              " 'financial': 2,\n",
              " 'disclosure': 1,\n",
              " 'report': 1,\n",
              " 'FEC': 2,\n",
              " 'July': 1,\n",
              " '2015': 3,\n",
              " 'announced': 1,\n",
              " '10': 1,\n",
              " 'billion': 9,\n",
              " 'Records': 1,\n",
              " 'released': 1,\n",
              " 'showed': 1,\n",
              " '1.4': 2,\n",
              " 'assets': 3,\n",
              " '265': 1,\n",
              " 'liabilities.[34': 1,\n",
              " '2018.[35': 1,\n",
              " '2024': 1,\n",
              " 'billionaires': 1,\n",
              " 'ranking': 2,\n",
              " '2.3': 1,\n",
              " '1,438th': 1,\n",
              " 'world).[36': 1,\n",
              " '\\n\\n': 5,\n",
              " 'Journalist': 1,\n",
              " 'Jonathan': 1,\n",
              " 'Greenberg': 3,\n",
              " 'reported': 4,\n",
              " 'called': 1,\n",
              " '1984': 2,\n",
              " 'pretending': 1,\n",
              " 'fictional': 1,\n",
              " 'Organization': 1,\n",
              " 'official': 1,\n",
              " 'named': 1,\n",
              " 'John': 1,\n",
              " 'Barron': 2,\n",
              " 'said': 2,\n",
              " 'higher': 2,\n",
              " '400': 1,\n",
              " 'Americans': 1,\n",
              " 'identified': 1,\n",
              " 'falsely': 1,\n",
              " 'asserted': 1,\n",
              " 'Donald': 1,\n",
              " 'owned': 2,\n",
              " '90': 1,\n",
              " 'percent': 1,\n",
              " 'father': 4,\n",
              " 'business': 2,\n",
              " 'wrote': 1,\n",
              " 'vastly': 1,\n",
              " 'overestimated': 1,\n",
              " 'wealth': 1,\n",
              " 'wrongly': 1,\n",
              " 'included': 1,\n",
              " '1983': 1,\n",
              " 'rankings.[37': 1,\n",
              " 'began': 1,\n",
              " 'career': 1,\n",
              " 'small': 1,\n",
              " 'loan': 1,\n",
              " 'dollars': 3,\n",
              " 'pay': 1,\n",
              " 'interest.[38': 1,\n",
              " 'millionaire': 1,\n",
              " 'age': 1,\n",
              " 'borrowed': 1,\n",
              " '60': 1,\n",
              " 'largely': 1,\n",
              " 'failed': 1,\n",
              " 'repay': 1,\n",
              " 'loans': 1,\n",
              " 'received': 1,\n",
              " '413': 1,\n",
              " '2018': 3,\n",
              " 'adjusted': 1,\n",
              " 'inflation': 1,\n",
              " 'company.[39][40': 1,\n",
              " 'committed': 1,\n",
              " 'tax': 5,\n",
              " 'fraud': 1,\n",
              " 'New': 3,\n",
              " 'York': 3,\n",
              " 'State': 1,\n",
              " 'Department': 1,\n",
              " 'Taxation': 1,\n",
              " 'Finance': 1,\n",
              " 'started': 1,\n",
              " 'investigation.[40': 1,\n",
              " 'investments': 1,\n",
              " 'underperformed': 1,\n",
              " 'stock': 1,\n",
              " 'property': 1,\n",
              " 'markets.[41][42': 1,\n",
              " 'October': 2,\n",
              " 'declined': 1,\n",
              " '4.5': 1,\n",
              " '3.1': 1,\n",
              " '2017': 1,\n",
              " 'product': 1,\n",
              " 'licensing': 1,\n",
              " 'income': 5,\n",
              " '23': 1,\n",
              " '3': 1,\n",
              " 'million.[43': 1,\n",
              " 'Contrary': 1,\n",
              " 'claims': 1,\n",
              " 'health': 1,\n",
              " 'acumen': 1,\n",
              " 'returns': 1,\n",
              " '1985': 1,\n",
              " '1994': 1,\n",
              " 'totaling': 1,\n",
              " '1.17': 1,\n",
              " 'American': 1,\n",
              " 'taxpayer': 1,\n",
              " '1991': 1,\n",
              " '250': 1,\n",
              " 'year': 1,\n",
              " 'double': 1,\n",
              " 'nearest': 1,\n",
              " 'taxpayers': 1,\n",
              " '1995': 1,\n",
              " '915.7': 1,\n",
              " '1.83': 1,\n",
              " '2023).[44][45][32': 1,\n",
              " '2020': 2,\n",
              " 'Times': 1,\n",
              " 'obtained': 1,\n",
              " 'information': 1,\n",
              " 'extending': 1,\n",
              " 'decades': 1,\n",
              " 'reporters': 1,\n",
              " 'found': 1,\n",
              " 'hundreds': 1,\n",
              " 'millions': 1,\n",
              " '2010': 1,\n",
              " 'deferred': 1,\n",
              " 'declaring': 1,\n",
              " '287': 1,\n",
              " 'forgiven': 1,\n",
              " 'debt': 2,\n",
              " 'taxable': 1,\n",
              " 'mainly': 2,\n",
              " 'came': 1,\n",
              " 'Apprentice': 1,\n",
              " 'businesses': 3,\n",
              " 'minority': 1,\n",
              " 'partner': 1,\n",
              " 'majority': 1,\n",
              " 'credits': 1,\n",
              " 'let': 1,\n",
              " 'avoid': 1,\n",
              " 'annual': 1,\n",
              " 'payments': 1,\n",
              " 'lower': 1,\n",
              " '750': 1,\n",
              " '2010s': 1,\n",
              " 'balanced': 1,\n",
              " 'selling': 1,\n",
              " 'borrowing': 1,\n",
              " 'including': 2,\n",
              " '100': 1,\n",
              " 'mortgage': 1,\n",
              " 'Tower': 1,\n",
              " '2022': 1,\n",
              " 'liquidation': 1,\n",
              " 'stocks': 1,\n",
              " 'bonds': 1,\n",
              " 'personally': 1,\n",
              " 'guaranteed': 1,\n",
              " '421': 1,\n",
              " '2024.[46': 1,\n",
              " '2021': 1,\n",
              " '1.3': 1,\n",
              " 'debts': 1,\n",
              " 'secured': 1,\n",
              " 'assets.[47': 1,\n",
              " 'owed': 1,\n",
              " '640': 1,\n",
              " 'banks': 1,\n",
              " 'trust': 1,\n",
              " 'organizations': 1,\n",
              " 'Bank': 2,\n",
              " 'China': 1,\n",
              " 'Deutsche': 1,\n",
              " 'UBS': 1,\n",
              " 'approximately': 1,\n",
              " '450': 1,\n",
              " 'unknown': 1,\n",
              " 'creditors': 1,\n",
              " 'value': 1,\n",
              " 'exceeds': 1,\n",
              " 'debt.[48': 1}"
            ]
          },
          "metadata": {},
          "execution_count": 18
        }
      ]
    },
    {
      "cell_type": "code",
      "source": [
        "max_frequency = max(word_frequencies.values())\n",
        "max_frequency"
      ],
      "metadata": {
        "colab": {
          "base_uri": "https://localhost:8080/"
        },
        "id": "zONi3FoyiILe",
        "outputId": "3c1f094f-d020-4e06-e76e-13cfb6a59160"
      },
      "execution_count": null,
      "outputs": [
        {
          "output_type": "execute_result",
          "data": {
            "text/plain": [
              "15"
            ]
          },
          "metadata": {},
          "execution_count": 19
        }
      ]
    },
    {
      "cell_type": "code",
      "source": [
        "for word in word_frequencies.keys():\n",
        "  word_frequencies[word] = word_frequencies[word]/max_frequency"
      ],
      "metadata": {
        "id": "0Fq2P2pGiUwW"
      },
      "execution_count": null,
      "outputs": []
    },
    {
      "cell_type": "code",
      "source": [
        "word_frequencies\n"
      ],
      "metadata": {
        "colab": {
          "base_uri": "https://localhost:8080/"
        },
        "id": "1vaozUViibiW",
        "outputId": "b8cae409-abb7-4e1f-ae2a-4b6e5d154b3f"
      },
      "execution_count": null,
      "outputs": [
        {
          "output_type": "execute_result",
          "data": {
            "text/plain": [
              "{'1982': 2,\n",
              " 'Trump': 14,\n",
              " 'initial': 1,\n",
              " 'Forbes': 5,\n",
              " 'list': 3,\n",
              " 'wealthy': 2,\n",
              " 'people': 1,\n",
              " 'holding': 1,\n",
              " 'share': 2,\n",
              " 'family': 2,\n",
              " 'estimated': 4,\n",
              " '200': 2,\n",
              " 'million': 15,\n",
              " 'net': 6,\n",
              " 'worth': 5,\n",
              " 'equivalent': 2,\n",
              " '631': 1,\n",
              " '2023).[32': 1,\n",
              " 'losses': 9,\n",
              " '1980s': 1,\n",
              " 'dropped': 2,\n",
              " '1990': 2,\n",
              " '1995.[33': 1,\n",
              " 'filing': 1,\n",
              " 'mandatory': 1,\n",
              " 'financial': 2,\n",
              " 'disclosure': 1,\n",
              " 'report': 1,\n",
              " 'FEC': 2,\n",
              " 'July': 1,\n",
              " '2015': 3,\n",
              " 'announced': 1,\n",
              " '10': 1,\n",
              " 'billion': 9,\n",
              " 'Records': 1,\n",
              " 'released': 1,\n",
              " 'showed': 1,\n",
              " '1.4': 2,\n",
              " 'assets': 3,\n",
              " '265': 1,\n",
              " 'liabilities.[34': 1,\n",
              " '2018.[35': 1,\n",
              " '2024': 1,\n",
              " 'billionaires': 1,\n",
              " 'ranking': 2,\n",
              " '2.3': 1,\n",
              " '1,438th': 1,\n",
              " 'world).[36': 1,\n",
              " '\\n\\n': 5,\n",
              " 'Journalist': 1,\n",
              " 'Jonathan': 1,\n",
              " 'Greenberg': 3,\n",
              " 'reported': 4,\n",
              " 'called': 1,\n",
              " '1984': 2,\n",
              " 'pretending': 1,\n",
              " 'fictional': 1,\n",
              " 'Organization': 1,\n",
              " 'official': 1,\n",
              " 'named': 1,\n",
              " 'John': 1,\n",
              " 'Barron': 2,\n",
              " 'said': 2,\n",
              " 'higher': 2,\n",
              " '400': 1,\n",
              " 'Americans': 1,\n",
              " 'identified': 1,\n",
              " 'falsely': 1,\n",
              " 'asserted': 1,\n",
              " 'Donald': 1,\n",
              " 'owned': 2,\n",
              " '90': 1,\n",
              " 'percent': 1,\n",
              " 'father': 4,\n",
              " 'business': 2,\n",
              " 'wrote': 1,\n",
              " 'vastly': 1,\n",
              " 'overestimated': 1,\n",
              " 'wealth': 1,\n",
              " 'wrongly': 1,\n",
              " 'included': 1,\n",
              " '1983': 1,\n",
              " 'rankings.[37': 1,\n",
              " 'began': 1,\n",
              " 'career': 1,\n",
              " 'small': 1,\n",
              " 'loan': 1,\n",
              " 'dollars': 3,\n",
              " 'pay': 1,\n",
              " 'interest.[38': 1,\n",
              " 'millionaire': 1,\n",
              " 'age': 1,\n",
              " 'borrowed': 1,\n",
              " '60': 1,\n",
              " 'largely': 1,\n",
              " 'failed': 1,\n",
              " 'repay': 1,\n",
              " 'loans': 1,\n",
              " 'received': 1,\n",
              " '413': 1,\n",
              " '2018': 3,\n",
              " 'adjusted': 1,\n",
              " 'inflation': 1,\n",
              " 'company.[39][40': 1,\n",
              " 'committed': 1,\n",
              " 'tax': 5,\n",
              " 'fraud': 1,\n",
              " 'New': 3,\n",
              " 'York': 3,\n",
              " 'State': 1,\n",
              " 'Department': 1,\n",
              " 'Taxation': 1,\n",
              " 'Finance': 1,\n",
              " 'started': 1,\n",
              " 'investigation.[40': 1,\n",
              " 'investments': 1,\n",
              " 'underperformed': 1,\n",
              " 'stock': 1,\n",
              " 'property': 1,\n",
              " 'markets.[41][42': 1,\n",
              " 'October': 2,\n",
              " 'declined': 1,\n",
              " '4.5': 1,\n",
              " '3.1': 1,\n",
              " '2017': 1,\n",
              " 'product': 1,\n",
              " 'licensing': 1,\n",
              " 'income': 5,\n",
              " '23': 1,\n",
              " '3': 1,\n",
              " 'million.[43': 1,\n",
              " 'Contrary': 1,\n",
              " 'claims': 1,\n",
              " 'health': 1,\n",
              " 'acumen': 1,\n",
              " 'returns': 1,\n",
              " '1985': 1,\n",
              " '1994': 1,\n",
              " 'totaling': 1,\n",
              " '1.17': 1,\n",
              " 'American': 1,\n",
              " 'taxpayer': 1,\n",
              " '1991': 1,\n",
              " '250': 1,\n",
              " 'year': 1,\n",
              " 'double': 1,\n",
              " 'nearest': 1,\n",
              " 'taxpayers': 1,\n",
              " '1995': 1,\n",
              " '915.7': 1,\n",
              " '1.83': 1,\n",
              " '2023).[44][45][32': 1,\n",
              " '2020': 2,\n",
              " 'Times': 1,\n",
              " 'obtained': 1,\n",
              " 'information': 1,\n",
              " 'extending': 1,\n",
              " 'decades': 1,\n",
              " 'reporters': 1,\n",
              " 'found': 1,\n",
              " 'hundreds': 1,\n",
              " 'millions': 1,\n",
              " '2010': 1,\n",
              " 'deferred': 1,\n",
              " 'declaring': 1,\n",
              " '287': 1,\n",
              " 'forgiven': 1,\n",
              " 'debt': 2,\n",
              " 'taxable': 1,\n",
              " 'mainly': 2,\n",
              " 'came': 1,\n",
              " 'Apprentice': 1,\n",
              " 'businesses': 3,\n",
              " 'minority': 1,\n",
              " 'partner': 1,\n",
              " 'majority': 1,\n",
              " 'credits': 1,\n",
              " 'let': 1,\n",
              " 'avoid': 1,\n",
              " 'annual': 1,\n",
              " 'payments': 1,\n",
              " 'lower': 1,\n",
              " '750': 1,\n",
              " '2010s': 1,\n",
              " 'balanced': 1,\n",
              " 'selling': 1,\n",
              " 'borrowing': 1,\n",
              " 'including': 2,\n",
              " '100': 1,\n",
              " 'mortgage': 1,\n",
              " 'Tower': 1,\n",
              " '2022': 1,\n",
              " 'liquidation': 1,\n",
              " 'stocks': 1,\n",
              " 'bonds': 1,\n",
              " 'personally': 1,\n",
              " 'guaranteed': 1,\n",
              " '421': 1,\n",
              " '2024.[46': 1,\n",
              " '2021': 1,\n",
              " '1.3': 1,\n",
              " 'debts': 1,\n",
              " 'secured': 1,\n",
              " 'assets.[47': 1,\n",
              " 'owed': 1,\n",
              " '640': 1,\n",
              " 'banks': 1,\n",
              " 'trust': 1,\n",
              " 'organizations': 1,\n",
              " 'Bank': 2,\n",
              " 'China': 1,\n",
              " 'Deutsche': 1,\n",
              " 'UBS': 1,\n",
              " 'approximately': 1,\n",
              " '450': 1,\n",
              " 'unknown': 1,\n",
              " 'creditors': 1,\n",
              " 'value': 1,\n",
              " 'exceeds': 1,\n",
              " 'debt.[48': 1}"
            ]
          },
          "metadata": {},
          "execution_count": 20
        }
      ]
    },
    {
      "cell_type": "code",
      "source": [
        "sentence_tokens = [sent for sent in doc.sents]\n",
        "sentence_tokens"
      ],
      "metadata": {
        "colab": {
          "base_uri": "https://localhost:8080/"
        },
        "id": "oLk1VApEiem9",
        "outputId": "81861488-8264-4690-b685-1af2d70b41b6"
      },
      "execution_count": null,
      "outputs": [
        {
          "output_type": "execute_result",
          "data": {
            "text/plain": [
              "[\n",
              " In 1982, Trump made the initial Forbes list of wealthy people for holding a share of his family's estimated $200 million net worth (equivalent to $631 million in 2023).[32],\n",
              " His losses in the 1980s dropped him from the list between 1990 and 1995.[33] After filing the mandatory financial disclosure report with the FEC in July 2015, he announced a net worth of about $10 billion.,\n",
              " Records released by the FEC showed at least $1.4 billion in assets and $265 million in liabilities.[34],\n",
              " Forbes estimated his net worth dropped by $1.4 billion between 2015 and 2018.[35],\n",
              " In their 2024 billionaires ranking, Trump's net worth was estimated to be $2.3 billion (1,438th in the world).[36]\n",
              " \n",
              " Journalist Jonathan Greenberg reported that Trump called him in 1984, pretending to be a fictional Trump Organization official named \"John Barron\".,\n",
              " Greenberg said that Trump, just to get a higher ranking on the Forbes 400 list of wealthy Americans, identified himself as \"Barron\", and then falsely asserted that Donald Trump owned more than 90 percent of his father's business.,\n",
              " Greenberg also wrote that Forbes had vastly overestimated Trump's wealth and wrongly included him on the 1982, 1983, and 1984 rankings.[37]\n",
              " \n",
              " Trump has often said he began his career with \"a small loan of a million dollars\" from his father and that he had to pay it back with interest.[38],\n",
              " He was a millionaire by age eight, borrowed at least $60 million from his father, largely failed to repay those loans, and received another $413 million (2018 dollars adjusted for inflation) from his father's company.[39][40],\n",
              " In 2018, he and his family were reported to have committed tax fraud, and the New York State Department of Taxation and Finance started an investigation.[40],\n",
              " His investments underperformed the stock and New York property markets.[41][42],\n",
              " Forbes estimated in October 2018 that his net worth declined from $4.5 billion in 2015 to $3.1 billion in 2017 and his product-licensing income from $23 million to $3 million.[43]\n",
              " \n",
              " Contrary to his claims of financial health and business acumen, Trump's tax returns from 1985 to 1994 show net losses totaling $1.17 billion.,\n",
              " The losses were higher than those of almost every other American taxpayer.,\n",
              " The losses in 1990 and 1991, more than $250 million each year, were more than double those of the nearest taxpayers.,\n",
              " In 1995, his reported losses were $915.7 million (equivalent to $1.83 billion in 2023).[44][45][32]\n",
              " \n",
              " In 2020, The New York Times obtained Trump's tax information extending over two decades.,\n",
              " Its reporters found that Trump reported losses of hundreds of millions of dollars and had, since 2010, deferred declaring $287 million in forgiven debt as taxable income.,\n",
              " His income mainly came from his share in The Apprentice and businesses in which he was a minority partner, and his losses mainly from majority-owned businesses.,\n",
              " Much income was in tax credits for his losses, which let him avoid annual income tax payments or lower them to $750.,\n",
              " During the 2010s, Trump balanced his businesses' losses by selling and borrowing against assets, including a $100 million mortgage on Trump Tower (due in 2022) and the liquidation of over $200 million in stocks and bonds.,\n",
              " He personally guaranteed $421 million in debt, most of which is due by 2024.[46]\n",
              " \n",
              " As of October 2021, Trump had over $1.3 billion in debts, much of which is secured by his assets.[47],\n",
              " In 2020, he owed $640 million to banks and trust organizations, including Bank of China, Deutsche Bank, and UBS, and approximately $450 million to unknown creditors.,\n",
              " The value of his assets exceeds his debt.[48]]"
            ]
          },
          "metadata": {},
          "execution_count": 21
        }
      ]
    },
    {
      "cell_type": "code",
      "source": [
        "sentence_scores = {}\n",
        "for sent in sentence_tokens:\n",
        "  for word in sent:\n",
        "    if word.text.lower() in word_frequencies.keys():\n",
        "      if sent not in sentence_scores.keys():\n",
        "        sentence_scores[sent] = word_frequencies[word.text.lower()]\n",
        "      else:\n",
        "        sentence_scores[sent] += word_frequencies[word.text.lower()]"
      ],
      "metadata": {
        "id": "63IAQB1ainW6"
      },
      "execution_count": null,
      "outputs": []
    },
    {
      "cell_type": "code",
      "source": [
        "sentence_scores"
      ],
      "metadata": {
        "colab": {
          "base_uri": "https://localhost:8080/"
        },
        "id": "Kz-Ovo4Ni1xz",
        "outputId": "70d3d85c-63a6-4567-f4bc-fdedc9d9d94c"
      },
      "execution_count": null,
      "outputs": [
        {
          "output_type": "execute_result",
          "data": {
            "text/plain": [
              "{\n",
              " In 1982, Trump made the initial Forbes list of wealthy people for holding a share of his family's estimated $200 million net worth (equivalent to $631 million in 2023).[32]: 65,\n",
              " His losses in the 1980s dropped him from the list between 1990 and 1995.[33] After filing the mandatory financial disclosure report with the FEC in July 2015, he announced a net worth of about $10 billion.: 49,\n",
              " Records released by the FEC showed at least $1.4 billion in assets and $265 million in liabilities.[34]: 33,\n",
              " Forbes estimated his net worth dropped by $1.4 billion between 2015 and 2018.[35]: 32,\n",
              " In their 2024 billionaires ranking, Trump's net worth was estimated to be $2.3 billion (1,438th in the world).[36]\n",
              " \n",
              " Journalist Jonathan Greenberg reported that Trump called him in 1984, pretending to be a fictional Trump Organization official named \"John Barron\".: 47,\n",
              " Greenberg said that Trump, just to get a higher ranking on the Forbes 400 list of wealthy Americans, identified himself as \"Barron\", and then falsely asserted that Donald Trump owned more than 90 percent of his father's business.: 25,\n",
              " Greenberg also wrote that Forbes had vastly overestimated Trump's wealth and wrongly included him on the 1982, 1983, and 1984 rankings.[37]\n",
              " \n",
              " Trump has often said he began his career with \"a small loan of a million dollars\" from his father and that he had to pay it back with interest.[38]: 47,\n",
              " He was a millionaire by age eight, borrowed at least $60 million from his father, largely failed to repay those loans, and received another $413 million (2018 dollars adjusted for inflation) from his father's company.[39][40]: 57,\n",
              " In 2018, he and his family were reported to have committed tax fraud, and the New York State Department of Taxation and Finance started an investigation.[40]: 18,\n",
              " His investments underperformed the stock and New York property markets.[41][42]: 5,\n",
              " Forbes estimated in October 2018 that his net worth declined from $4.5 billion in 2015 to $3.1 billion in 2017 and his product-licensing income from $23 million to $3 million.[43]\n",
              " \n",
              " Contrary to his claims of financial health and business acumen, Trump's tax returns from 1985 to 1994 show net losses totaling $1.17 billion.: 114,\n",
              " The losses were higher than those of almost every other American taxpayer.: 12,\n",
              " The losses in 1990 and 1991, more than $250 million each year, were more than double those of the nearest taxpayers.: 32,\n",
              " In 1995, his reported losses were $915.7 million (equivalent to $1.83 billion in 2023).[44][45][32]\n",
              " \n",
              " In 2020, The New York Times obtained Trump's tax information extending over two decades.: 59,\n",
              " Its reporters found that Trump reported losses of hundreds of millions of dollars and had, since 2010, deferred declaring $287 million in forgiven debt as taxable income.: 48,\n",
              " His income mainly came from his share in The Apprentice and businesses in which he was a minority partner, and his losses mainly from majority-owned businesses.: 32,\n",
              " Much income was in tax credits for his losses, which let him avoid annual income tax payments or lower them to $750.: 36,\n",
              " During the 2010s, Trump balanced his businesses' losses by selling and borrowing against assets, including a $100 million mortgage on Trump Tower (due in 2022) and the liquidation of over $200 million in stocks and bonds.: 59,\n",
              " He personally guaranteed $421 million in debt, most of which is due by 2024.[46]\n",
              " \n",
              " As of October 2021, Trump had over $1.3 billion in debts, much of which is secured by his assets.[47]: 40,\n",
              " In 2020, he owed $640 million to banks and trust organizations, including Bank of China, Deutsche Bank, and UBS, and approximately $450 million to unknown creditors.: 43,\n",
              " The value of his assets exceeds his debt.[48]: 6}"
            ]
          },
          "metadata": {},
          "execution_count": 26
        }
      ]
    },
    {
      "cell_type": "code",
      "source": [
        "from heapq import nlargest"
      ],
      "metadata": {
        "id": "Q1BFAqsCjCXp"
      },
      "execution_count": null,
      "outputs": []
    },
    {
      "cell_type": "code",
      "source": [
        "select_length = int(len(sentence_tokens)*0.3)\n",
        "select_length"
      ],
      "metadata": {
        "colab": {
          "base_uri": "https://localhost:8080/"
        },
        "id": "FUv6pWPAjHGn",
        "outputId": "2d0f989f-6e45-44a7-8864-097171668b90"
      },
      "execution_count": null,
      "outputs": [
        {
          "output_type": "execute_result",
          "data": {
            "text/plain": [
              "6"
            ]
          },
          "metadata": {},
          "execution_count": 28
        }
      ]
    },
    {
      "cell_type": "code",
      "source": [
        "summary = nlargest(select_length, sentence_scores, key=sentence_scores.get)\n",
        "summary"
      ],
      "metadata": {
        "colab": {
          "base_uri": "https://localhost:8080/"
        },
        "id": "SmCd7psEjQVx",
        "outputId": "a57bbc77-9232-4f3f-bd3e-f37737180ccd"
      },
      "execution_count": null,
      "outputs": [
        {
          "output_type": "execute_result",
          "data": {
            "text/plain": [
              "[Forbes estimated in October 2018 that his net worth declined from $4.5 billion in 2015 to $3.1 billion in 2017 and his product-licensing income from $23 million to $3 million.[43]\n",
              " \n",
              " Contrary to his claims of financial health and business acumen, Trump's tax returns from 1985 to 1994 show net losses totaling $1.17 billion.,\n",
              " \n",
              " In 1982, Trump made the initial Forbes list of wealthy people for holding a share of his family's estimated $200 million net worth (equivalent to $631 million in 2023).[32],\n",
              " In 1995, his reported losses were $915.7 million (equivalent to $1.83 billion in 2023).[44][45][32]\n",
              " \n",
              " In 2020, The New York Times obtained Trump's tax information extending over two decades.,\n",
              " During the 2010s, Trump balanced his businesses' losses by selling and borrowing against assets, including a $100 million mortgage on Trump Tower (due in 2022) and the liquidation of over $200 million in stocks and bonds.,\n",
              " He was a millionaire by age eight, borrowed at least $60 million from his father, largely failed to repay those loans, and received another $413 million (2018 dollars adjusted for inflation) from his father's company.[39][40],\n",
              " His losses in the 1980s dropped him from the list between 1990 and 1995.[33] After filing the mandatory financial disclosure report with the FEC in July 2015, he announced a net worth of about $10 billion.]"
            ]
          },
          "metadata": {},
          "execution_count": 29
        }
      ]
    },
    {
      "cell_type": "code",
      "source": [
        "final_summary = [word.text for word in summary]"
      ],
      "metadata": {
        "id": "nTYAAkG8jXMI"
      },
      "execution_count": null,
      "outputs": []
    },
    {
      "cell_type": "code",
      "source": [
        "summary = ' '.join(final_summary)"
      ],
      "metadata": {
        "id": "xci6Qto2jiWU"
      },
      "execution_count": null,
      "outputs": []
    },
    {
      "cell_type": "code",
      "source": [
        "summary"
      ],
      "metadata": {
        "colab": {
          "base_uri": "https://localhost:8080/",
          "height": 157
        },
        "id": "KbPlEBcdjqO8",
        "outputId": "8770e337-1930-4ba5-90ec-7c8c4737cdab"
      },
      "execution_count": null,
      "outputs": [
        {
          "output_type": "execute_result",
          "data": {
            "text/plain": [
              "\"Forbes estimated in October 2018 that his net worth declined from $4.5 billion in 2015 to $3.1 billion in 2017 and his product-licensing income from $23 million to $3 million.[43]\\n\\nContrary to his claims of financial health and business acumen, Trump's tax returns from 1985 to 1994 show net losses totaling $1.17 billion. \\nIn 1982, Trump made the initial Forbes list of wealthy people for holding a share of his family's estimated $200 million net worth (equivalent to $631 million in 2023).[32] In 1995, his reported losses were $915.7 million (equivalent to $1.83 billion in 2023).[44][45][32]\\n\\nIn 2020, The New York Times obtained Trump's tax information extending over two decades. During the 2010s, Trump balanced his businesses' losses by selling and borrowing against assets, including a $100 million mortgage on Trump Tower (due in 2022) and the liquidation of over $200 million in stocks and bonds. He was a millionaire by age eight, borrowed at least $60 million from his father, largely failed to repay those loans, and received another $413 million (2018 dollars adjusted for inflation) from his father's company.[39][40] His losses in the 1980s dropped him from the list between 1990 and 1995.[33] After filing the mandatory financial disclosure report with the FEC in July 2015, he announced a net worth of about $10 billion.\""
            ],
            "application/vnd.google.colaboratory.intrinsic+json": {
              "type": "string"
            }
          },
          "metadata": {},
          "execution_count": 33
        }
      ]
    },
    {
      "cell_type": "code",
      "source": [
        "text"
      ],
      "metadata": {
        "colab": {
          "base_uri": "https://localhost:8080/",
          "height": 365
        },
        "id": "GQ223D51junU",
        "outputId": "1b5c3581-dd49-4017-afe2-6819cb687200"
      },
      "execution_count": null,
      "outputs": [
        {
          "output_type": "execute_result",
          "data": {
            "text/plain": [
              "'\\nIn 1982, Trump made the initial Forbes list of wealthy people for holding a share of his family\\'s estimated $200 million net worth (equivalent to $631 million in 2023).[32] His losses in the 1980s dropped him from the list between 1990 and 1995.[33] After filing the mandatory financial disclosure report with the FEC in July 2015, he announced a net worth of about $10 billion. Records released by the FEC showed at least $1.4 billion in assets and $265 million in liabilities.[34] Forbes estimated his net worth dropped by $1.4 billion between 2015 and 2018.[35] In their 2024 billionaires ranking, Trump\\'s net worth was estimated to be $2.3 billion (1,438th in the world).[36]\\n\\nJournalist Jonathan Greenberg reported that Trump called him in 1984, pretending to be a fictional Trump Organization official named \"John Barron\". Greenberg said that Trump, just to get a higher ranking on the Forbes 400 list of wealthy Americans, identified himself as \"Barron\", and then falsely asserted that Donald Trump owned more than 90 percent of his father\\'s business. Greenberg also wrote that Forbes had vastly overestimated Trump\\'s wealth and wrongly included him on the 1982, 1983, and 1984 rankings.[37]\\n\\nTrump has often said he began his career with \"a small loan of a million dollars\" from his father and that he had to pay it back with interest.[38] He was a millionaire by age eight, borrowed at least $60 million from his father, largely failed to repay those loans, and received another $413 million (2018 dollars adjusted for inflation) from his father\\'s company.[39][40] In 2018, he and his family were reported to have committed tax fraud, and the New York State Department of Taxation and Finance started an investigation.[40] His investments underperformed the stock and New York property markets.[41][42] Forbes estimated in October 2018 that his net worth declined from $4.5 billion in 2015 to $3.1 billion in 2017 and his product-licensing income from $23 million to $3 million.[43]\\n\\nContrary to his claims of financial health and business acumen, Trump\\'s tax returns from 1985 to 1994 show net losses totaling $1.17 billion. The losses were higher than those of almost every other American taxpayer. The losses in 1990 and 1991, more than $250 million each year, were more than double those of the nearest taxpayers. In 1995, his reported losses were $915.7 million (equivalent to $1.83 billion in 2023).[44][45][32]\\n\\nIn 2020, The New York Times obtained Trump\\'s tax information extending over two decades. Its reporters found that Trump reported losses of hundreds of millions of dollars and had, since 2010, deferred declaring $287 million in forgiven debt as taxable income. His income mainly came from his share in The Apprentice and businesses in which he was a minority partner, and his losses mainly from majority-owned businesses. Much income was in tax credits for his losses, which let him avoid annual income tax payments or lower them to $750. During the 2010s, Trump balanced his businesses\\' losses by selling and borrowing against assets, including a $100 million mortgage on Trump Tower (due in 2022) and the liquidation of over $200 million in stocks and bonds. He personally guaranteed $421 million in debt, most of which is due by 2024.[46]\\n\\nAs of October 2021, Trump had over $1.3 billion in debts, much of which is secured by his assets.[47] In 2020, he owed $640 million to banks and trust organizations, including Bank of China, Deutsche Bank, and UBS, and approximately $450 million to unknown creditors. The value of his assets exceeds his debt.[48]\\n'"
            ],
            "application/vnd.google.colaboratory.intrinsic+json": {
              "type": "string"
            }
          },
          "metadata": {},
          "execution_count": 34
        }
      ]
    },
    {
      "cell_type": "code",
      "source": [
        "len(text)"
      ],
      "metadata": {
        "colab": {
          "base_uri": "https://localhost:8080/"
        },
        "id": "1HYWHVdYjy1Y",
        "outputId": "945d2a2a-0141-4621-b9e0-dcc4595689a3"
      },
      "execution_count": null,
      "outputs": [
        {
          "output_type": "execute_result",
          "data": {
            "text/plain": [
              "3585"
            ]
          },
          "metadata": {},
          "execution_count": 35
        }
      ]
    },
    {
      "cell_type": "code",
      "source": [
        "len(summary)"
      ],
      "metadata": {
        "colab": {
          "base_uri": "https://localhost:8080/"
        },
        "id": "G3vEp_Gpj0Yl",
        "outputId": "1dee14e9-1511-4887-99e6-1dba537c23ad"
      },
      "execution_count": null,
      "outputs": [
        {
          "output_type": "execute_result",
          "data": {
            "text/plain": [
              "1340"
            ]
          },
          "metadata": {},
          "execution_count": 36
        }
      ]
    }
  ]
}